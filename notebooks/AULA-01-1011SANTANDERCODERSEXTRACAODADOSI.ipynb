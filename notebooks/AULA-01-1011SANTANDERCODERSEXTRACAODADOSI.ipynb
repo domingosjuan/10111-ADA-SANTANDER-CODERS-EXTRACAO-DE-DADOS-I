{
 "cells": [
  {
   "cell_type": "markdown",
   "metadata": {},
   "source": [
    "## EXTRAÇÃO DE DADOS I - AULA  01"
   ]
  },
  {
   "cell_type": "markdown",
   "metadata": {},
   "source": [
    "## De onde vem a necessidade de uma extração de Dados estruturada e Organizada ?\n",
    "\n",
    "![Data Sources](https://skab-beratung.de/wp-content/uploads/2021/11/cropped-12-9.jpg)"
   ]
  },
  {
   "cell_type": "markdown",
   "metadata": {},
   "source": [
    "## Entendendo um Pouco Melhor Pipelines de Dados"
   ]
  },
  {
   "cell_type": "markdown",
   "metadata": {},
   "source": [
    "![Organização de Estruturas de Armazenamento](https://miro.medium.com/v2/resize:fit:720/format:webp/1*O4ey_K0ZbsESf8na7OirJg.jpeg)\n",
    "\n",
    "Referencia: Medallion architecture: best practices for managing Bronze, Silver and Gold | by Piethein Strengholt | Medium. Disponível em: https://www.google.com/url?sa=i&url=https%3A%2F%2Fpiethein.medium.com%2Fmedallion-architecture-best-practices-for-managing-bronze-silver-and-gold-486de7c90055&psig=AOvVaw3JEq7OzcPmP3r0F8P2aVC9&ust=1694895201318000&source=images&cd=vfe&opi=89978449&ved=0CBIQjhxqFwoTCNiqkfW2rYEDFQAAAAAdAAAAABAZ"
   ]
  },
  {
   "cell_type": "markdown",
   "metadata": {},
   "source": [
    "### ELT e ELT\n",
    "\n",
    "![ETL vs ELT - Amazon Web Services](https://d2908q01vomqb2.cloudfront.net/b6692ea5df920cad691c20319a6fffd7a4a766b8/2019/12/12/ETLandELTRedshift1.png)\n",
    "\n",
    "- ETL - **E**xtract **T**ransform **L**oad\n",
    "- ELT - **E**xtract **L**oad **T**ransform\n",
    "\n",
    "Problemas que o ELT nos ajuda a resolver:\n",
    "\n",
    "- Facilidade na Operabilidade dos Dados\n",
    "- Regras de processamento mais flexíveis\n",
    "- Redução da Complexidade Arquitetural (Dependendo de como é Organizado)\n",
    "\n",
    "# Qual é Melhor ?\n",
    "\n",
    "### Depende !"
   ]
  },
  {
   "cell_type": "markdown",
   "metadata": {},
   "source": [
    "# ETL e ELT - Vamos Praticar um Pouco\n"
   ]
  },
  {
   "cell_type": "markdown",
   "metadata": {},
   "source": [
    "# A Internet é um Mar de Dados e **Integrar** é Preciso"
   ]
  },
  {
   "cell_type": "markdown",
   "metadata": {},
   "source": [
    "## O mundo das APIs\n",
    "\n",
    "### **REST** - Representation State Transfer (Nome Bonito ...)\n",
    "\n",
    "- Comunicação Utilizando Protocolo HTTP\n",
    "- Alguns formatos permitidos: JSON, XML, HTML, dentre outras variações\n"
   ]
  },
  {
   "cell_type": "markdown",
   "metadata": {},
   "source": [
    "## Consumindo APIs com Python"
   ]
  },
  {
   "cell_type": "markdown",
   "metadata": {},
   "source": [
    "### 1. Instalando a Biblioteca Requests"
   ]
  },
  {
   "cell_type": "code",
   "execution_count": 105,
   "metadata": {
    "tags": []
   },
   "outputs": [
    {
     "data": {
      "text/plain": [
       "<Response [200]>"
      ]
     },
     "execution_count": 105,
     "metadata": {},
     "output_type": "execute_result"
    }
   ],
   "source": []
  },
  {
   "cell_type": "markdown",
   "metadata": {},
   "source": [
    "### 2. Consultando Dados de uma API utilizando Requests\n",
    "\n",
    "API utilizada: Fake Store API\n",
    "\n",
    "URL: https://fakestoreapi.com/\n",
    "\n",
    "Recursos\n",
    "\n",
    "- GET: /products\n",
    "- GET: /products/categories\n",
    "- GET: /products/category/jewelery"
   ]
  },
  {
   "cell_type": "code",
   "execution_count": null,
   "metadata": {
    "tags": []
   },
   "outputs": [],
   "source": []
  },
  {
   "cell_type": "markdown",
   "metadata": {},
   "source": [
    "#### Principais Verbos HTTP\n",
    "\n",
    "- GET\n",
    "- POST\n",
    "- PUT\n",
    "- DELETE\n",
    "- PACH\n",
    "\n",
    "#### Alguns Outros\n",
    "\n",
    "- CONNECT\n",
    "- OPTIONS\n",
    "- HEAD"
   ]
  }
 ],
 "metadata": {
  "kernelspec": {
   "display_name": "Python 3 (ipykernel)",
   "language": "python",
   "name": "python3"
  },
  "language_info": {
   "codemirror_mode": {
    "name": "ipython",
    "version": 3
   },
   "file_extension": ".py",
   "mimetype": "text/x-python",
   "name": "python",
   "nbconvert_exporter": "python",
   "pygments_lexer": "ipython3",
   "version": "3.10.10"
  }
 },
 "nbformat": 4,
 "nbformat_minor": 4
}
